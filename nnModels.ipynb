{
 "cells": [
  {
   "cell_type": "code",
   "execution_count": 1,
   "metadata": {},
   "outputs": [],
   "source": [
    "import numpy as np\n",
    "import pandas as pd\n",
    "import datetime as dt\n",
    "import pandas_datareader as web\n",
    "from sklearn.ensemble import RandomForestRegressor\n",
    "from sklearn.metrics import mean_squared_error\n",
    "import matplotlib.pyplot as plt\n",
    "import os "
   ]
  },
  {
   "cell_type": "code",
   "execution_count": 163,
   "metadata": {},
   "outputs": [
    {
     "name": "stdout",
     "output_type": "stream",
     "text": [
      "['LIN.DE', 'HEN3.DE', 'DAI.DE', 'FME.DE', 'MUV2.DE', 'SIE.DE', 'DBK.DE']\n"
     ]
    },
    {
     "name": "stderr",
     "output_type": "stream",
     "text": [
      "C:\\Users\\renze\\Anaconda3\\lib\\site-packages\\pandas\\core\\indexing.py:1017: FutureWarning: \n",
      "Passing list-likes to .loc or [] with any missing label will raise\n",
      "KeyError in the future, you can use .reindex() as an alternative.\n",
      "\n",
      "See the documentation here:\n",
      "https://pandas.pydata.org/pandas-docs/stable/indexing.html#deprecate-loc-reindex-listlike\n",
      "  return getattr(section, self.name)[new_key]\n",
      "C:\\Users\\renze\\Anaconda3\\lib\\site-packages\\pandas\\core\\indexing.py:1494: FutureWarning: \n",
      "Passing list-likes to .loc or [] with any missing label will raise\n",
      "KeyError in the future, you can use .reindex() as an alternative.\n",
      "\n",
      "See the documentation here:\n",
      "https://pandas.pydata.org/pandas-docs/stable/indexing.html#deprecate-loc-reindex-listlike\n",
      "  return self._getitem_tuple(key)\n"
     ]
    }
   ],
   "source": [
    "\n",
    "def get_random_tickers(n, ticklist):\n",
    "    if n >len(ticklist):\n",
    "        raise Exception('n is bigger than ticklist')\n",
    "    return np.random.choice(ticklist, size=n, replace=False)\n",
    "RSVE = []\n",
    "\n",
    "# Our initial ticklist\n",
    "\n",
    "ticklist = ['ADS.DE', 'ALV.DE', 'BAS.DE', 'BEI.DE', 'BMW.DE', 'CON.DE', 'DAI.DE', 'DBK.DE', 'DTE.DE', 'EOAN.DE', 'FME.DE',\n",
    " 'FRE.DE', 'HEI.DE', 'HEN3.DE', 'LHA.DE', 'LIN.DE', 'MRK.DE', 'MUV2.DE', 'RWE.DE', 'SAP.DE', 'SIE.DE', 'TKA.DE', 'VOW3.DE']\n",
    "\n",
    "# The 7 tickers chosen randomly from this ticklist\n",
    "\n",
    "ticklist = get_random_tickers(7, ticklist)\n",
    "ticklist = ['LIN.DE', 'HEN3.DE', 'DAI.DE', 'FME.DE', 'MUV2.DE', 'SIE.DE', 'DBK.DE']\n",
    "\n",
    "print(ticklist)\n",
    "\n",
    "\n",
    "d0 = '2001-01-01' # begining of the waiting period\n",
    "d1 = '2004-01-01' # begining of the CV period\n",
    "d2 = '2006-01-01' # begining of the test period\n",
    "d3 = '2008-01-01' # end of the test period\n",
    "\n",
    "norm=True\n",
    "lbd = 0.2 # history weight metric\n",
    "alpha = 0.09 # risk management metric\n",
    "cst = 10 #weight metric\n",
    "delta = 0.91\n",
    "\n",
    "dtes = pd.read_csv('trading_days.csv', index_col=0)\n",
    "tempdt = dtes.copy()\n",
    "tempdt.set_index('Buy', drop=True, inplace=True)\n",
    "tempdt.index = pd.to_datetime(tempdt.index)\n",
    "\n",
    "Y = []\n",
    "X = pd.DataFrame(columns=['Date', 'EMA10', 'EMA16', 'EMA22', 'SMA10', 'SMA16', 'SMA22','ValueAtRisk', \n",
    "                       'Bollu20', 'Bollu26', 'Bollu32', 'Bolld20', 'Bolld26', 'Bolld32',\n",
    "                       'Mom12', 'Mom18', 'Mom24', 'ACC12', 'ACC18', 'ACC24', 'ROC10', 'ROC16',\n",
    "                       'ROC22', 'MACD1812', 'MACD2412','MACD3012', 'MACDS18129', 'MACDS24129', 'MACDS30129', \n",
    "                       'RSI8', 'RSI14', 'RSI20', 'OBV', 'CHV1010', 'CHV1016', 'CHV1022',\n",
    "                       'FastK12', 'FastD12', 'FastK18', 'SlowK12', 'FastD18', 'SlowD12',\n",
    "                       'FastK24', 'SlowK18', 'FastD24', 'SlowD18', 'SlowK24', 'SlowD24',\n",
    "                       'High', 'Low', 'Open', 'Close', 'Volume', 'AdjClose', 'Ticker',\n",
    "                       'Month', 'DAX', 'ADL', 'Type', 'Y'])\n",
    "dax = web.get_data_yahoo('^GDAXI', start=d0, end=d3)\n",
    "prices = pd.DataFrame(columns=['Ticker', 'High', 'Low', 'Open', 'Close', 'Volume', 'AdjClose', 'Date'])\n",
    "\n",
    "# Generate the X matrix and Y matrix and make them have only trading days\n",
    "for tick in ticklist:\n",
    "    if norm:\n",
    "        temp = pd.read_csv('tickDataNorm/'+ str(delta).replace('.', '') +'/' + tick.replace('.', '') +'.csv', index_col=0)\n",
    "    else:\n",
    "        temp = pd.read_csv('tickData/'+ str(delta).replace('.', '') +'/' + tick.replace('.', '') +'.csv', index_col=0)\n",
    "    prices = pd.concat([prices, temp.loc[:, ['Ticker', 'High', 'Low', 'Open', 'Close', 'Volume', 'AdjClose', 'Date']]],axis=0, ignore_index=True, sort=False,copy=True)\n",
    "    # Select dates around events\n",
    "    temp.set_index('Date', inplace=True, drop=True)\n",
    "    temp.index = pd.to_datetime(temp.index)\n",
    "    B = temp.loc[pd.to_datetime(dtes.Buy), 'Close']\n",
    "    S = temp.loc[pd.to_datetime(dtes.Sell), 'Close']\n",
    "    temp = temp.loc[tempdt.index, :]\n",
    "    temp['Y'] = 100*(S.values-B.values)/B.values\n",
    "    \n",
    "    mask = np.logical_not(np.isnan(temp['Y'].values))\n",
    "    temp = temp.loc[mask, :]\n",
    "    if norm:\n",
    "        temp.loc[:,'High'] = temp.loc[:,'Norm_High']\n",
    "        temp.loc[:,'Low'] = temp.loc[:,'Norm_Low']\n",
    "        temp.loc[:,'Open'] = temp.loc[:,'Norm_Open']\n",
    "        temp.loc[:,'Close'] = temp.loc[:,'Norm_Close']\n",
    "        temp.loc[:,'AdjClose'] = temp.loc[:,'Norm_AdjClose']\n",
    "    #temp = temp.loc[pd.to_datetime(dtes.Buy), :]\n",
    "    temp['Month'] = temp.index.month\n",
    "    temp['Date'] = temp.index\n",
    "    temp['DAX'] = dax.loc[temp.index, 'Adj Close']\n",
    "    temp.loc[:,'Type'] = tempdt.loc[mask, 'Type'].values\n",
    "    temp = temp.loc[:,['Date', 'EMA10', 'EMA16', 'EMA22', 'SMA10', 'SMA16', 'SMA22','ValueAtRisk', \n",
    "                       'Bollu20', 'Bollu26', 'Bollu32', 'Bolld20', 'Bolld26', 'Bolld32',\n",
    "                       'Mom12', 'Mom18', 'Mom24', 'ACC12', 'ACC18', 'ACC24', 'ROC10', 'ROC16',\n",
    "                       'ROC22', 'MACD1812', 'MACD2412','MACD3012', 'MACDS18129', 'MACDS24129', 'MACDS30129', \n",
    "                       'RSI8', 'RSI14', 'RSI20', 'OBV', 'CHV1010', 'CHV1016', 'CHV1022',\n",
    "                       'FastK12', 'FastD12', 'FastK18', 'SlowK12', 'FastD18', 'SlowD12',\n",
    "                       'FastK24', 'SlowK18', 'FastD24', 'SlowD18', 'SlowK24', 'SlowD24',\n",
    "                       'High', 'Low', 'Open', 'Close', 'Volume', 'AdjClose', 'Ticker',\n",
    "                       'Month', 'DAX', 'ADL','Type', 'Y']]\n",
    "    \n",
    "    \n",
    "    X = pd.concat([X, temp], axis=0, ignore_index=True, copy=True, sort=False)\n",
    "\n",
    "T = X.Ticker.unique()\n",
    "tickdict = dict(zip(T, range(len(T))))\n",
    "for tick in T:\n",
    "    X.loc[X.Ticker==tick,'Ticker']= tickdict[tick]\n",
    "\n",
    "\n",
    "X.sort_values(by=['Date', 'Ticker'], inplace=True)\n",
    "X.set_index('Date', drop=True, inplace=True)\n",
    "X = X.loc[((X.index>=pd.to_datetime(d0)) & (X.index<=pd.to_datetime(d3))), :]\n",
    "C = ['EMA10', 'EMA16', 'EMA22', 'SMA10', 'SMA16', 'SMA22', 'ValueAtRisk',\n",
    "       'Bollu20', 'Bollu26', 'Bollu32', 'Bolld20', 'Bolld26', 'Bolld32',\n",
    "       'Mom12', 'Mom18', 'Mom24', 'ACC12', 'ACC18', 'ACC24', 'ROC10', 'ROC16',\n",
    "       'ROC22', 'MACD1812', 'MACD2412', 'MACD3012', 'MACDS18129', 'MACDS24129',\n",
    "       'MACDS30129', 'RSI8', 'RSI14', 'RSI20', 'OBV', 'CHV1010', 'CHV1016',\n",
    "       'CHV1022', 'FastK12', 'FastD12', 'FastK18', 'SlowK12', 'FastD18',\n",
    "       'SlowD12', 'FastK24', 'SlowK18', 'FastD24', 'SlowD18', 'SlowK24',\n",
    "       'SlowD24', 'High', 'Low', 'Open', 'Close', 'Volume', 'AdjClose',\n",
    "       'Month', 'DAX', 'ADL','Type', 'Ticker']\n",
    "Xtrain1 = X.loc[((X.index>pd.to_datetime(d0)) & (X.index<=pd.to_datetime(d1))), C]\n",
    "Xcv1 = X.loc[((X.index>pd.to_datetime(d1)) & (X.index<=pd.to_datetime(d2))), C]\n",
    "Ytrain1 = X.loc[((X.index>pd.to_datetime(d0)) & (X.index<=pd.to_datetime(d1))), 'Y']\n",
    "Ycv1 = X.loc[((X.index>pd.to_datetime(d1)) & (X.index<=pd.to_datetime(d2))), 'Y']"
   ]
  },
  {
   "cell_type": "code",
   "execution_count": null,
   "metadata": {},
   "outputs": [],
   "source": []
  },
  {
   "cell_type": "markdown",
   "metadata": {},
   "source": [
    "# Neural Network"
   ]
  },
  {
   "cell_type": "code",
   "execution_count": null,
   "metadata": {},
   "outputs": [],
   "source": []
  },
  {
   "cell_type": "code",
   "execution_count": 166,
   "metadata": {},
   "outputs": [],
   "source": [
    "import torch\n",
    "import torch.autograd\n",
    "import torch.nn.functional as F\n",
    "import torch.nn as nn\n",
    "import torch.optim as optim\n",
    "import matplotlib.pyplot as plt\n",
    "import time\n"
   ]
  },
  {
   "cell_type": "code",
   "execution_count": 167,
   "metadata": {},
   "outputs": [],
   "source": [
    "class MLP(nn.Module):\n",
    "    def __init__(self, size_list, dropout = False, dropoutProb = 0.1, batchNorm = False):\n",
    "        super(MLP, self).__init__()\n",
    "        layers = []\n",
    "        self.size_list = size_list\n",
    "        for i in range(len(size_list) - 2):\n",
    "            layers.append(nn.Linear(size_list[i],size_list[i+1]))\n",
    "            layers.append(nn.ReLU())\n",
    "            \n",
    "            if batchNorm:\n",
    "                layers.append(nn.BatchNorm1d(size_list[i+1]))\n",
    "                \n",
    "            if dropout:\n",
    "                layers.append(nn.dropout, p = dropoutProb)\n",
    "            \n",
    "        layers.append(nn.Linear(size_list[-2], size_list[-1]))\n",
    "        \n",
    "        # Unpack the list\n",
    "        self.net = nn.Sequential(*layers)\n",
    "\n",
    "    def forward(self, x):\n",
    "        return self.net(x)\n",
    "\n"
   ]
  },
  {
   "cell_type": "markdown",
   "metadata": {},
   "source": [
    "# Function for training"
   ]
  },
  {
   "cell_type": "code",
   "execution_count": 168,
   "metadata": {},
   "outputs": [],
   "source": [
    "def train_epoch(model, optimizer, X_train, y_train, criterion):\n",
    "    model.train()\n",
    "    \n",
    "    start_time = time.time()\n",
    "\n",
    "    optimizer.zero_grad()  \n",
    "\n",
    "    outputs = model(X_train)\n",
    "    \n",
    "    loss = criterion(outputs, y_train)\n",
    "    \n",
    "    running_loss = loss.item()\n",
    "\n",
    "    loss.backward()\n",
    "    \n",
    "    optimizer.step()\n",
    "    \n",
    "    end_time = time.time()\n",
    "    \n",
    "    #print('Training Loss: ', running_loss, 'Time: ',end_time - start_time, 's')\n",
    "    return running_loss\n",
    "\n",
    "# Optimizer can be 'SGD', 'RMSprop', 'ADAM', \n",
    "def nnTrain(X_train, y_train, size_list, dropout = False, dropoutProb = 0.1, batchNorm = False, \n",
    "                optimizer = 'SGD', lr = 0.01, n_epochs = 100):\n",
    "    \n",
    "    model = MLP(size_list)\n",
    "    \n",
    "    criterion = nn.MSELoss()\n",
    "    \n",
    "    if optimizer == 'SGD':\n",
    "        optimizer = optim.SGD(model.parameters(), lr = lr)\n",
    "    if optimizer == 'RMSprop':\n",
    "        optimizer = optim.RMSprop(model.parameters(), lr = lr)\n",
    "    if optimizer == 'ADAM':\n",
    "        optimizer = optim.ADAM(model.parameters(), lr = lr)\n",
    "    \n",
    "    Train_loss = []\n",
    "    \n",
    "    for i in range(n_epochs):\n",
    "        train_loss = train_epoch(model, optimizer, X_train, y_train, criterion)\n",
    "        Train_loss.append(train_loss)\n",
    "    \n",
    "    return model, Train_loss"
   ]
  },
  {
   "cell_type": "markdown",
   "metadata": {},
   "source": [
    "# Function for testing"
   ]
  },
  {
   "cell_type": "code",
   "execution_count": 170,
   "metadata": {},
   "outputs": [],
   "source": [
    "def nnTest(model, X_test, y_test):\n",
    "    criterion = nn.MSELoss()\n",
    "    with torch.no_grad():\n",
    "        model.eval()        \n",
    "\n",
    "        outputs = model(X_test)\n",
    "\n",
    "        loss = criterion(outputs, y_test).detach()\n",
    "        running_loss = loss.item()\n",
    "        \n",
    "        return running_loss"
   ]
  },
  {
   "cell_type": "markdown",
   "metadata": {},
   "source": [
    "# Normalization"
   ]
  },
  {
   "cell_type": "code",
   "execution_count": 180,
   "metadata": {},
   "outputs": [],
   "source": [
    "Xmean = np.mean(Xtrain1)\n",
    "Xstdev = np.std(Xtrain1)\n",
    "Xtrain2 = (Xtrain1-Xmean)/Xstdev\n",
    "Xcv2 = (Xcv1-Xmean)/Xstdev"
   ]
  },
  {
   "cell_type": "code",
   "execution_count": 173,
   "metadata": {},
   "outputs": [],
   "source": [
    "X_train = torch.autograd.Variable(torch.Tensor(Xtrain2.values.astype(float)))\n",
    "y_train = torch.autograd.Variable(torch.Tensor(Ytrain1.values.astype(float)))\n",
    "\n",
    "X_test = torch.autograd.Variable(torch.Tensor(Xcv2.values.astype(float)))\n",
    "y_test = torch.autograd.Variable(torch.Tensor(Ycv1.values.astype(float)))\n",
    "\n",
    "# match the shapes of output and target\n",
    "y_train = y_train.view(len(Ytrain1),1) \n",
    "size_list = [X_train.shape[1], 20, 20, y_train.shape[1]]"
   ]
  },
  {
   "cell_type": "markdown",
   "metadata": {},
   "source": [
    "# Testing"
   ]
  },
  {
   "cell_type": "code",
   "execution_count": 176,
   "metadata": {},
   "outputs": [],
   "source": [
    "model, Train_loss = nnTrain(X_train, y_train, size_list, dropout = True, dropoutProb = 0.1, batchNorm = True, \n",
    "                optimizer = 'SGD', lr = 0.01, n_epochs = 1000)"
   ]
  },
  {
   "cell_type": "code",
   "execution_count": 177,
   "metadata": {},
   "outputs": [
    {
     "data": {
      "text/plain": [
       "[<matplotlib.lines.Line2D at 0x27da73ce518>]"
      ]
     },
     "execution_count": 177,
     "metadata": {},
     "output_type": "execute_result"
    },
    {
     "data": {
      "image/png": "[encoded data removed]",
      "text/plain": [
       "<Figure size 432x288 with 1 Axes>"
      ]
     },
     "metadata": {
      "needs_background": "light"
     },
     "output_type": "display_data"
    }
   ],
   "source": [
    "plt.plot(Train_loss)"
   ]
  },
  {
   "cell_type": "code",
   "execution_count": 178,
   "metadata": {},
   "outputs": [],
   "source": [
    "test_loss = nnTest(model, X_test, y_test)"
   ]
  }
 ],
 "metadata": {
  "kernelspec": {
   "display_name": "Python 3",
   "language": "python",
   "name": "python3"
  },
  "language_info": {
   "codemirror_mode": {
    "name": "ipython",
    "version": 3
   },
   "file_extension": ".py",
   "mimetype": "text/x-python",
   "name": "python",
   "nbconvert_exporter": "python",
   "pygments_lexer": "ipython3",
   "version": "3.7.0"
  }
 },
 "nbformat": 4,
 "nbformat_minor": 2
}
